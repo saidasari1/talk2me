{
  "cells": [
    {
      "cell_type": "code",
      "execution_count": null,
      "metadata": {
        "id": "4piobiMXuyCY",
        "colab": {
          "base_uri": "https://localhost:8080/"
        },
        "outputId": "7c73e98f-85ab-45ac-a011-6342d75ad877"
      },
      "outputs": [
        {
          "output_type": "stream",
          "name": "stdout",
          "text": [
            "Requirement already satisfied: discord in /usr/local/lib/python3.10/dist-packages (2.3.2)\n",
            "Requirement already satisfied: discord.py>=2.3.2 in /usr/local/lib/python3.10/dist-packages (from discord) (2.3.2)\n",
            "Requirement already satisfied: aiohttp<4,>=3.7.4 in /usr/local/lib/python3.10/dist-packages (from discord.py>=2.3.2->discord) (3.8.6)\n",
            "Requirement already satisfied: attrs>=17.3.0 in /usr/local/lib/python3.10/dist-packages (from aiohttp<4,>=3.7.4->discord.py>=2.3.2->discord) (23.1.0)\n",
            "Requirement already satisfied: charset-normalizer<4.0,>=2.0 in /usr/local/lib/python3.10/dist-packages (from aiohttp<4,>=3.7.4->discord.py>=2.3.2->discord) (3.3.1)\n",
            "Requirement already satisfied: multidict<7.0,>=4.5 in /usr/local/lib/python3.10/dist-packages (from aiohttp<4,>=3.7.4->discord.py>=2.3.2->discord) (6.0.4)\n",
            "Requirement already satisfied: async-timeout<5.0,>=4.0.0a3 in /usr/local/lib/python3.10/dist-packages (from aiohttp<4,>=3.7.4->discord.py>=2.3.2->discord) (4.0.3)\n",
            "Requirement already satisfied: yarl<2.0,>=1.0 in /usr/local/lib/python3.10/dist-packages (from aiohttp<4,>=3.7.4->discord.py>=2.3.2->discord) (1.9.2)\n",
            "Requirement already satisfied: frozenlist>=1.1.1 in /usr/local/lib/python3.10/dist-packages (from aiohttp<4,>=3.7.4->discord.py>=2.3.2->discord) (1.4.0)\n",
            "Requirement already satisfied: aiosignal>=1.1.2 in /usr/local/lib/python3.10/dist-packages (from aiohttp<4,>=3.7.4->discord.py>=2.3.2->discord) (1.3.1)\n",
            "Requirement already satisfied: idna>=2.0 in /usr/local/lib/python3.10/dist-packages (from yarl<2.0,>=1.0->aiohttp<4,>=3.7.4->discord.py>=2.3.2->discord) (3.4)\n",
            "Requirement already satisfied: nest_asyncio in /usr/local/lib/python3.10/dist-packages (1.5.8)\n"
          ]
        }
      ],
      "source": [
        "!pip install discord\n",
        "!pip install nest_asyncio"
      ]
    },
    {
      "cell_type": "code",
      "source": [
        "import nest_asyncio\n",
        "nest_asyncio.apply()"
      ],
      "metadata": {
        "id": "9CccQKNHwYnD"
      },
      "execution_count": null,
      "outputs": []
    },
    {
      "cell_type": "code",
      "execution_count": null,
      "metadata": {
        "id": "g3ZXfAcU1q31",
        "colab": {
          "base_uri": "https://localhost:8080/"
        },
        "outputId": "a5d5683d-f7c2-4e2f-8d6c-60ac8d855fc8"
      },
      "outputs": [
        {
          "output_type": "stream",
          "name": "stderr",
          "text": [
            "\u001b[30;1m2023-11-05 04:54:48\u001b[0m \u001b[34;1mINFO    \u001b[0m \u001b[35mdiscord.client\u001b[0m logging in using static token\n",
            "/usr/lib/python3.10/asyncio/events.py:105: RuntimeWarning: coroutine 'Client.run.<locals>.runner' was never awaited\n",
            "  super().__init__(callback, args, loop, context)\n",
            "RuntimeWarning: Enable tracemalloc to get the object allocation traceback\n",
            "\u001b[30;1m2023-11-05 04:54:48\u001b[0m \u001b[34;1mINFO    \u001b[0m \u001b[35mdiscord.client\u001b[0m logging in using static token\n",
            "\u001b[30;1m2023-11-05 04:54:48\u001b[0m \u001b[34;1mINFO    \u001b[0m \u001b[35mdiscord.client\u001b[0m logging in using static token\n",
            "\u001b[30;1m2023-11-05 04:54:48\u001b[0m \u001b[34;1mINFO    \u001b[0m \u001b[35mdiscord.client\u001b[0m logging in using static token\n",
            "\u001b[30;1m2023-11-05 04:54:48\u001b[0m \u001b[34;1mINFO    \u001b[0m \u001b[35mdiscord.client\u001b[0m logging in using static token\n",
            "\u001b[30;1m2023-11-05 04:54:48\u001b[0m \u001b[34;1mINFO    \u001b[0m \u001b[35mdiscord.client\u001b[0m logging in using static token\n",
            "\u001b[30;1m2023-11-05 04:54:48\u001b[0m \u001b[34;1mINFO    \u001b[0m \u001b[35mdiscord.client\u001b[0m logging in using static token\n",
            "\u001b[30;1m2023-11-05 04:54:48\u001b[0m \u001b[34;1mINFO    \u001b[0m \u001b[35mdiscord.client\u001b[0m logging in using static token\n",
            "\u001b[30;1m2023-11-05 04:54:48\u001b[0m \u001b[34;1mINFO    \u001b[0m \u001b[35mdiscord.client\u001b[0m logging in using static token\n",
            "\u001b[30;1m2023-11-05 04:54:48\u001b[0m \u001b[34;1mINFO    \u001b[0m \u001b[35mdiscord.client\u001b[0m logging in using static token\n",
            "\u001b[30;1m2023-11-05 04:54:48\u001b[0m \u001b[34;1mINFO    \u001b[0m \u001b[35mdiscord.client\u001b[0m logging in using static token\n",
            "INFO:discord.client:logging in using static token\n",
            "\u001b[30;1m2023-11-05 04:54:49\u001b[0m \u001b[34;1mINFO    \u001b[0m \u001b[35mdiscord.gateway\u001b[0m Shard ID None has connected to Gateway (Session ID: 2b0298eddc7cb6f359351a05f00e379c).\n",
            "\u001b[30;1m2023-11-05 04:54:49\u001b[0m \u001b[34;1mINFO    \u001b[0m \u001b[35mdiscord.gateway\u001b[0m Shard ID None has connected to Gateway (Session ID: 2b0298eddc7cb6f359351a05f00e379c).\n",
            "\u001b[30;1m2023-11-05 04:54:49\u001b[0m \u001b[34;1mINFO    \u001b[0m \u001b[35mdiscord.gateway\u001b[0m Shard ID None has connected to Gateway (Session ID: 2b0298eddc7cb6f359351a05f00e379c).\n",
            "\u001b[30;1m2023-11-05 04:54:49\u001b[0m \u001b[34;1mINFO    \u001b[0m \u001b[35mdiscord.gateway\u001b[0m Shard ID None has connected to Gateway (Session ID: 2b0298eddc7cb6f359351a05f00e379c).\n",
            "\u001b[30;1m2023-11-05 04:54:49\u001b[0m \u001b[34;1mINFO    \u001b[0m \u001b[35mdiscord.gateway\u001b[0m Shard ID None has connected to Gateway (Session ID: 2b0298eddc7cb6f359351a05f00e379c).\n",
            "\u001b[30;1m2023-11-05 04:54:49\u001b[0m \u001b[34;1mINFO    \u001b[0m \u001b[35mdiscord.gateway\u001b[0m Shard ID None has connected to Gateway (Session ID: 2b0298eddc7cb6f359351a05f00e379c).\n",
            "\u001b[30;1m2023-11-05 04:54:49\u001b[0m \u001b[34;1mINFO    \u001b[0m \u001b[35mdiscord.gateway\u001b[0m Shard ID None has connected to Gateway (Session ID: 2b0298eddc7cb6f359351a05f00e379c).\n",
            "\u001b[30;1m2023-11-05 04:54:49\u001b[0m \u001b[34;1mINFO    \u001b[0m \u001b[35mdiscord.gateway\u001b[0m Shard ID None has connected to Gateway (Session ID: 2b0298eddc7cb6f359351a05f00e379c).\n",
            "\u001b[30;1m2023-11-05 04:54:49\u001b[0m \u001b[34;1mINFO    \u001b[0m \u001b[35mdiscord.gateway\u001b[0m Shard ID None has connected to Gateway (Session ID: 2b0298eddc7cb6f359351a05f00e379c).\n",
            "\u001b[30;1m2023-11-05 04:54:49\u001b[0m \u001b[34;1mINFO    \u001b[0m \u001b[35mdiscord.gateway\u001b[0m Shard ID None has connected to Gateway (Session ID: 2b0298eddc7cb6f359351a05f00e379c).\n",
            "\u001b[30;1m2023-11-05 04:54:49\u001b[0m \u001b[34;1mINFO    \u001b[0m \u001b[35mdiscord.gateway\u001b[0m Shard ID None has connected to Gateway (Session ID: 2b0298eddc7cb6f359351a05f00e379c).\n",
            "INFO:discord.gateway:Shard ID None has connected to Gateway (Session ID: 2b0298eddc7cb6f359351a05f00e379c).\n"
          ]
        },
        {
          "output_type": "stream",
          "name": "stdout",
          "text": [
            "We have logged in as talk2me#4048\n",
            "{}\n",
            "<Message id=1170587094880620584 channel=<TextChannel id=1170437771199004824 name='general' position=0 nsfw=False news=False category_id=1170437771199004822> type=<MessageType.default: 0> author=<Member id=255801213977624576 name='yeetquack' global_name='YeetQuack' bot=False nick=None guild=<Guild id=1170437770569842758 name='talk2me test server 2' shard_id=0 chunked=False member_count=5>> flags=<MessageFlags value=0>>\n",
            "1170437713133043764\n",
            "{1170437771199004824: 1170437713133043764, 1170437713133043764: 1170437771199004824}\n",
            "<Message id=1170587095706894366 channel=<TextChannel id=1170437771199004824 name='general' position=0 nsfw=False news=False category_id=1170437771199004822> type=<MessageType.default: 0> author=<Member id=1170221873389391932 name='talk2me' global_name=None bot=True nick=None guild=<Guild id=1170437770569842758 name='talk2me test server 2' shard_id=0 chunked=False member_count=5>> flags=<MessageFlags value=0>>\n",
            "{1170437771199004824: 1170437713133043764, 1170437713133043764: 1170437771199004824}\n",
            "<Message id=1170587096327659571 channel=<TextChannel id=1170437713133043764 name='general' position=0 nsfw=False news=False category_id=1170437713133043762> type=<MessageType.default: 0> author=<Member id=1170221873389391932 name='talk2me' global_name=None bot=True nick=None guild=<Guild id=1170437712369701005 name='talk2me test server 1' shard_id=0 chunked=False member_count=5>> flags=<MessageFlags value=0>>\n",
            "{1170437771199004824: 1170437713133043764, 1170437713133043764: 1170437771199004824}\n",
            "<Message id=1170587115290099713 channel=<TextChannel id=1170437771199004824 name='general' position=0 nsfw=False news=False category_id=1170437771199004822> type=<MessageType.default: 0> author=<Member id=255801213977624576 name='yeetquack' global_name='YeetQuack' bot=False nick=None guild=<Guild id=1170437770569842758 name='talk2me test server 2' shard_id=0 chunked=False member_count=5>> flags=<MessageFlags value=0>>\n",
            "{1170437771199004824: 1170437713133043764, 1170437713133043764: 1170437771199004824}\n",
            "<Message id=1170587116049289397 channel=<TextChannel id=1170437713133043764 name='general' position=0 nsfw=False news=False category_id=1170437713133043762> type=<MessageType.default: 0> author=<Member id=1170221873389391932 name='talk2me' global_name=None bot=True nick=None guild=<Guild id=1170437712369701005 name='talk2me test server 1' shard_id=0 chunked=False member_count=5>> flags=<MessageFlags value=0>>\n",
            "{1170437771199004824: 1170437713133043764, 1170437713133043764: 1170437771199004824}\n",
            "<Message id=1170587153449889902 channel=<TextChannel id=1170437713133043764 name='general' position=0 nsfw=False news=False category_id=1170437713133043762> type=<MessageType.default: 0> author=<Member id=255801213977624576 name='yeetquack' global_name='YeetQuack' bot=False nick=None guild=<Guild id=1170437712369701005 name='talk2me test server 1' shard_id=0 chunked=False member_count=5>> flags=<MessageFlags value=0>>\n",
            "{1170437771199004824: 1170437713133043764, 1170437713133043764: 1170437771199004824}\n",
            "<Message id=1170587154162925708 channel=<TextChannel id=1170437771199004824 name='general' position=0 nsfw=False news=False category_id=1170437771199004822> type=<MessageType.default: 0> author=<Member id=1170221873389391932 name='talk2me' global_name=None bot=True nick=None guild=<Guild id=1170437770569842758 name='talk2me test server 2' shard_id=0 chunked=False member_count=5>> flags=<MessageFlags value=0>>\n"
          ]
        }
      ],
      "source": [
        "import discord\n",
        "\n",
        "intents = discord.Intents.default()\n",
        "intents.message_content = True\n",
        "client = discord.Client(intents=intents)\n",
        "\n",
        "token = \"MTE3MDIyMTg3MzM4OTM5MTkzMg.GN6xnH.YOdIhuTh_haE4QQ4oGapAqCkKD1Wim9vFWGaJo\"\n",
        "\n",
        "connections = {}\n",
        "\n",
        "@client.event\n",
        "async def on_ready():\n",
        "    print(f'We have logged in as {client.user}')\n",
        "\n",
        "\n",
        "@client.event\n",
        "async def on_message(message):\n",
        "    print(connections)\n",
        "    print(message)\n",
        "    channel_id = message.channel.id\n",
        "\n",
        "    if message.author == client.user:\n",
        "        return\n",
        "    elif message.content.startswith('$connect'):\n",
        "        if message.channel.id in connections.keys():\n",
        "            await message.channel.send(\"quit current connection before connecting\")\n",
        "        else:\n",
        "            id2 = int(message.content[9:])\n",
        "            connections[message.channel.id] = id2\n",
        "            connections[id2] = message.channel.id\n",
        "            print(id2)\n",
        "            channel2 = client.get_channel(id2)\n",
        "            await message.channel.send(\"Connection found!\")\n",
        "            await channel2.send(\"Connection found!\")\n",
        "    elif message.content.startswith('$quit'):\n",
        "        if message.channel.id in connections.keys():\n",
        "            id2 = connections[message.channel.id]\n",
        "            channel2 = client.get_channel(id2)\n",
        "            await message.channel.send(\"Connection terminated\")\n",
        "            await channel2.send(\"Connection terminated\")\n",
        "            del connections[message.channel.id]\n",
        "            del connections[id2]\n",
        "        else:\n",
        "            await message.channel.send(\"Not currently connected\")\n",
        "    elif message.content.startswith('$speak'):\n",
        "        await message.channel.send(\"I'm still here!\")\n",
        "    elif message.content.startswith('$info'):\n",
        "        await message.channel.send(channel_id)\n",
        "    else:\n",
        "        ret_channel = client.get_channel(connections[message.channel.id])\n",
        "        await ret_channel.send(f\"{message.author.display_name}: {message.content}\")\n",
        "\n",
        "client.run(token)\n"
      ]
    },
    {
      "cell_type": "code",
      "execution_count": null,
      "metadata": {
        "colab": {
          "background_save": true,
          "base_uri": "https://localhost:8080/"
        },
        "id": "tLGO4R-P0PgI",
        "outputId": "c93e5707-d727-4685-d3df-8bbb6cca20a6"
      },
      "outputs": [
        {
          "name": "stderr",
          "output_type": "stream",
          "text": [
            "\u001b[30;1m2023-11-04 20:10:10\u001b[0m \u001b[34;1mINFO    \u001b[0m \u001b[35mdiscord.client\u001b[0m logging in using static token\n",
            "\u001b[30;1m2023-11-04 20:10:10\u001b[0m \u001b[34;1mINFO    \u001b[0m \u001b[35mdiscord.client\u001b[0m logging in using static token\n",
            "\u001b[30;1m2023-11-04 20:10:10\u001b[0m \u001b[34;1mINFO    \u001b[0m \u001b[35mdiscord.client\u001b[0m logging in using static token\n",
            "\u001b[30;1m2023-11-04 20:10:10\u001b[0m \u001b[34;1mINFO    \u001b[0m \u001b[35mdiscord.client\u001b[0m logging in using static token\n",
            "\u001b[30;1m2023-11-04 20:10:10\u001b[0m \u001b[34;1mINFO    \u001b[0m \u001b[35mdiscord.client\u001b[0m logging in using static token\n",
            "INFO:discord.client:logging in using static token\n",
            "/usr/local/lib/python3.10/dist-packages/aiohttp/client_reqrep.py:313: RuntimeWarning: coroutine 'Client.run.<locals>.runner' was never awaited\n",
            "  self.update_expect_continue(expect100)\n",
            "RuntimeWarning: Enable tracemalloc to get the object allocation traceback\n",
            "\u001b[30;1m2023-11-04 20:10:11\u001b[0m \u001b[34;1mINFO    \u001b[0m \u001b[35mdiscord.gateway\u001b[0m Shard ID None has connected to Gateway (Session ID: 653b73b39d9079dcdbaa25b0166fa56a).\n",
            "\u001b[30;1m2023-11-04 20:10:11\u001b[0m \u001b[34;1mINFO    \u001b[0m \u001b[35mdiscord.gateway\u001b[0m Shard ID None has connected to Gateway (Session ID: 653b73b39d9079dcdbaa25b0166fa56a).\n",
            "\u001b[30;1m2023-11-04 20:10:11\u001b[0m \u001b[34;1mINFO    \u001b[0m \u001b[35mdiscord.gateway\u001b[0m Shard ID None has connected to Gateway (Session ID: 653b73b39d9079dcdbaa25b0166fa56a).\n",
            "\u001b[30;1m2023-11-04 20:10:11\u001b[0m \u001b[34;1mINFO    \u001b[0m \u001b[35mdiscord.gateway\u001b[0m Shard ID None has connected to Gateway (Session ID: 653b73b39d9079dcdbaa25b0166fa56a).\n",
            "\u001b[30;1m2023-11-04 20:10:11\u001b[0m \u001b[34;1mINFO    \u001b[0m \u001b[35mdiscord.gateway\u001b[0m Shard ID None has connected to Gateway (Session ID: 653b73b39d9079dcdbaa25b0166fa56a).\n",
            "INFO:discord.gateway:Shard ID None has connected to Gateway (Session ID: 653b73b39d9079dcdbaa25b0166fa56a).\n"
          ]
        },
        {
          "name": "stdout",
          "output_type": "stream",
          "text": [
            "Logged in as talk2me\n",
            "$speak\n",
            "AH: $speak\n",
            "Hello World!\n",
            "AH: $speak\n",
            "talk2me: Hello World!\n",
            "talk2me: Hello World!\n",
            "$speak\n",
            "AH: $speak\n",
            "AH: $speak\n"
          ]
        },
        {
          "name": "stderr",
          "output_type": "stream",
          "text": [
            "\u001b[30;1m2023-11-04 22:07:17\u001b[0m \u001b[34;1mINFO    \u001b[0m \u001b[35mdiscord.gateway\u001b[0m Shard ID None has successfully RESUMED session 653b73b39d9079dcdbaa25b0166fa56a.\n",
            "\u001b[30;1m2023-11-04 22:07:17\u001b[0m \u001b[34;1mINFO    \u001b[0m \u001b[35mdiscord.gateway\u001b[0m Shard ID None has successfully RESUMED session 653b73b39d9079dcdbaa25b0166fa56a.\n",
            "\u001b[30;1m2023-11-04 22:07:17\u001b[0m \u001b[34;1mINFO    \u001b[0m \u001b[35mdiscord.gateway\u001b[0m Shard ID None has successfully RESUMED session 653b73b39d9079dcdbaa25b0166fa56a.\n",
            "\u001b[30;1m2023-11-04 22:07:17\u001b[0m \u001b[34;1mINFO    \u001b[0m \u001b[35mdiscord.gateway\u001b[0m Shard ID None has successfully RESUMED session 653b73b39d9079dcdbaa25b0166fa56a.\n",
            "\u001b[30;1m2023-11-04 22:07:17\u001b[0m \u001b[34;1mINFO    \u001b[0m \u001b[35mdiscord.gateway\u001b[0m Shard ID None has successfully RESUMED session 653b73b39d9079dcdbaa25b0166fa56a.\n",
            "INFO:discord.gateway:Shard ID None has successfully RESUMED session 653b73b39d9079dcdbaa25b0166fa56a.\n"
          ]
        },
        {
          "name": "stdout",
          "output_type": "stream",
          "text": [
            "$connect\n",
            "AH: $connect\n",
            "searching for connection...\n",
            "talk2me: searching for connection...\n",
            "$connect\n",
            "connection found!\n",
            "testing 1\n",
            "$connect\n",
            "AH: $connect\n",
            "searching for connection...\n",
            "talk2me: searching for connection...\n",
            "$connect\n",
            "connection found!\n",
            "test1\n",
            "AH: test1\n",
            "test2\n",
            "test3\n",
            "test4\n",
            "AH: test4\n",
            "----\n",
            "AH: ----\n",
            "$connect\n",
            "searching for connection...\n",
            "AH: $connect\n",
            "talk2me: searching for connection...\n",
            "$connect\n",
            "connection found!\n",
            "testing\n",
            "$connect\n",
            "searching for connection...\n",
            "$connect\n",
            "connection found!\n",
            "talk2me: connection found!\n",
            "AH: $connect\n",
            "testing1\n",
            "AH: testing1\n",
            "testing1\n",
            "testing2\n",
            "testing2\n",
            "talk2me: testing2\n"
          ]
        },
        {
          "name": "stderr",
          "output_type": "stream",
          "text": [
            "\u001b[30;1m2023-11-04 23:56:31\u001b[0m \u001b[34;1mINFO    \u001b[0m \u001b[35mdiscord.gateway\u001b[0m Shard ID None has successfully RESUMED session 653b73b39d9079dcdbaa25b0166fa56a.\n",
            "\u001b[30;1m2023-11-04 23:56:31\u001b[0m \u001b[34;1mINFO    \u001b[0m \u001b[35mdiscord.gateway\u001b[0m Shard ID None has successfully RESUMED session 653b73b39d9079dcdbaa25b0166fa56a.\n",
            "\u001b[30;1m2023-11-04 23:56:31\u001b[0m \u001b[34;1mINFO    \u001b[0m \u001b[35mdiscord.gateway\u001b[0m Shard ID None has successfully RESUMED session 653b73b39d9079dcdbaa25b0166fa56a.\n",
            "\u001b[30;1m2023-11-04 23:56:31\u001b[0m \u001b[34;1mINFO    \u001b[0m \u001b[35mdiscord.gateway\u001b[0m Shard ID None has successfully RESUMED session 653b73b39d9079dcdbaa25b0166fa56a.\n",
            "\u001b[30;1m2023-11-04 23:56:31\u001b[0m \u001b[34;1mINFO    \u001b[0m \u001b[35mdiscord.gateway\u001b[0m Shard ID None has successfully RESUMED session 653b73b39d9079dcdbaa25b0166fa56a.\n",
            "INFO:discord.gateway:Shard ID None has successfully RESUMED session 653b73b39d9079dcdbaa25b0166fa56a.\n"
          ]
        }
      ],
      "source": [
        "# import discord\n",
        "\n",
        "# intents = discord.Intents.default()\n",
        "# intents.message_content = True\n",
        "# client = discord.Client(intents=intents)\n",
        "\n",
        "# token = \"MTE3MDIyMTg3MzM4OTM5MTkzMg.GN6xnH.YOdIhuTh_haE4QQ4oGapAqCkKD1Wim9vFWGaJo\"\n",
        "\n",
        "# @client.event\n",
        "# async def on_ready():\n",
        "#     print(f'We have logged in as {client.user}')\n",
        "\n",
        "\n",
        "# @client.event\n",
        "# async def on_message(message):\n",
        "#     if message.author == client.user:\n",
        "#         return\n",
        "#     print(message)\n",
        "#     if message.content.startswith('$speak'):\n",
        "#         print(\"hi\")\n",
        "#         await message.channel.send(\"Hello World!\")\n",
        "\n",
        "# async def hello(ctx):\n",
        "#     user = ctx.author\n",
        "#     await ctx.channel.send(f'Hello, {user.mention}!')\n",
        "\n",
        "#     # if message.content.startswith('$count'):\n",
        "#     #     inp = message.content[7:]\n",
        "#     #     for i in range(int(inp)):\n",
        "#     #         message_content = i+1\n",
        "#     #         await message.channel.send(message_content)\n",
        "\n",
        "#     # silly stuff\n",
        "#     # if message.content.startswith('$simon says'):\n",
        "#     #     message_content = message.content[10:]\n",
        "#     #     await message.channel.send(message_content)\n",
        "\n",
        "#     # if message.content.startswith('$info'):\n",
        "#     #     await message.channel.send(message.guild)\n",
        "\n",
        "\n",
        "# client.run(token)\n",
        "\n",
        "\n",
        "import discord\n",
        "from discord.ext import commands\n",
        "\n",
        "# Replace 'YOUR_TOKEN' with your bot's token\n",
        "TOKEN = 'MTE3MDIyMTg3MzM4OTM5MTkzMg.GN6xnH.YOdIhuTh_haE4QQ4oGapAqCkKD1Wim9vFWGaJo'\n",
        "\n",
        "intents = discord.Intents.default()\n",
        "intents.typing = False  # Customize intents as needed\n",
        "intents.message_content = True\n",
        "\n",
        "# Replace these with the channel IDs of the source and destination channels\n",
        "SOURCE_CHANNEL_ID = 1170437713133043764\n",
        "DESTINATION_CHANNEL_ID = 1170437771199004824\n",
        "\n",
        "bot = commands.Bot(command_prefix='!', intents = intents)\n",
        "\n",
        "@bot.event\n",
        "async def on_ready():\n",
        "    print(f'Logged in as {bot.user.name}')\n",
        "\n",
        "@bot.event\n",
        "async def on_message(message):\n",
        "    print(message.content)\n",
        "    if message.channel.id == SOURCE_CHANNEL_ID:\n",
        "        # Get the destination channel by ID\n",
        "        destination_channel = bot.get_channel(DESTINATION_CHANNEL_ID)\n",
        "\n",
        "        if destination_channel:\n",
        "            # Send the message to the destination channel with the sender's name\n",
        "            await destination_channel.send(f\"{message.author.display_name}: {message.content}\")\n",
        "\n",
        "    await bot.process_commands(message)\n",
        "\n",
        "bot.run(TOKEN)"
      ]
    }
  ],
  "metadata": {
    "colab": {
      "provenance": []
    },
    "kernelspec": {
      "display_name": "Python 3",
      "name": "python3"
    },
    "language_info": {
      "name": "python"
    }
  },
  "nbformat": 4,
  "nbformat_minor": 0
}